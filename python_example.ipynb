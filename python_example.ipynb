{
 "cells": [
  {
   "cell_type": "markdown",
   "metadata": {},
   "source": [
    "# Notebook example"
   ]
  },
  {
   "cell_type": "markdown",
   "metadata": {},
   "source": [
    "## Notebooks are great for working out your homework assignments.\n",
    "Not only can we run code, but we can also write _Markdown_ text. `_Markdown_` will be italic. `**Markdown**` will be bold.\n",
    "\n",
    "With `$y = x^2$` we can generate equations like this: $y=x^2$. Or we can use double dollarsigns `$$y = x^2$$`:\n",
    "$$y = x^2$$\n",
    "\n",
    "Let's see a assignment in our python notebook."
   ]
  },
  {
   "cell_type": "markdown",
   "metadata": {},
   "source": [
    "# Exercise 0: Print\n",
    "With `print(<value>)`, we can write something that will be shown to the user. For example:"
   ]
  },
  {
   "cell_type": "code",
   "execution_count": 8,
   "metadata": {},
   "outputs": [
    {
     "name": "stdout",
     "output_type": "stream",
     "text": [
      "Hello world\n"
     ]
    }
   ],
   "source": [
    "print('Hello world')"
   ]
  },
  {
   "cell_type": "markdown",
   "metadata": {},
   "source": [
    "We have written a few words that are shown beneath our code. Try it yourself! Write: 'Hi! My name is ... and I am a mathematical programmer'.\n",
    "\n",
    "You can run your code by pressing `Shift+Enter` or `Ctrl+Enter`"
   ]
  },
  {
   "cell_type": "code",
   "execution_count": null,
   "metadata": {},
   "outputs": [],
   "source": []
  },
  {
   "cell_type": "markdown",
   "metadata": {},
   "source": [
    "# Exercise 1: `+-*/()`\n",
    "We can use the basic mathematical operators to make calculations. Let's see an example:"
   ]
  },
  {
   "cell_type": "code",
   "execution_count": 16,
   "metadata": {},
   "outputs": [
    {
     "name": "stdout",
     "output_type": "stream",
     "text": [
      "2\n",
      "1\n",
      "0\n",
      "2.0\n",
      "2.0\n"
     ]
    }
   ],
   "source": [
    "# This is a comment. Comments are part of code that will be ignored by python\n",
    "# We can use comments to give a small explanation about our code. \n",
    "print(1+1) # addition\n",
    "print(4-3) # subtraction\n",
    "print(2*0) # multiplication\n",
    "print(6/3) # division\n",
    "print((1+5)/(4-1)) # parenthesis"
   ]
  },
  {
   "cell_type": "markdown",
   "metadata": {},
   "source": [
    "With these mathematical operators, we can do some basic but also some complex calculations.\n",
    "\n",
    "In the code below: Make 4 calculations where the answer is 3.5. You can use `+`, `-`, `*` and `/` only ones. "
   ]
  },
  {
   "cell_type": "code",
   "execution_count": null,
   "metadata": {},
   "outputs": [],
   "source": []
  },
  {
   "cell_type": "markdown",
   "metadata": {},
   "source": [
    "# Exercise 2: calculating squares\n",
    "Calculate the square for these digits: 1, 2, 3, 5, 8, 13"
   ]
  },
  {
   "cell_type": "code",
   "execution_count": 9,
   "metadata": {},
   "outputs": [
    {
     "name": "stdout",
     "output_type": "stream",
     "text": [
      "1\n",
      "4\n",
      "9\n",
      "25 25 25\n"
     ]
    }
   ],
   "source": [
    "# We can calculate the square of a digit in a few ways.\n",
    "print(1**1)\n",
    "print(2**2) # the ** operator is 'to the power of'\n",
    "print(3**2) # 3**2 = 3 to the power of 2\n",
    "print(5**2, 5*5, 5+5+5+5+5) "
   ]
  },
  {
   "cell_type": "markdown",
   "metadata": {},
   "source": [
    "Now you have seen how to calculate the squares of a number. Repeat this for 8 and 13."
   ]
  },
  {
   "cell_type": "code",
   "execution_count": null,
   "metadata": {},
   "outputs": [],
   "source": []
  },
  {
   "cell_type": "markdown",
   "metadata": {},
   "source": [
    "# Exercise 3:\n",
    "We ask people if they have pets and we get the following results:\n",
    "| cat | no pet | cat | cat | cat | cat | cat | no pet | no pet | no pet | cat | cat | no pet | dog | dog | cat | no pet | cat | cat | no pet |\n",
    "|-----|--------|-----|-----|-----|-----|-----|--------|--------|--------|-----|-----|--------|-----|-----|-----|--------|-----|-----|--------|\n",
    "\n",
    "Construct a frequency table with a relative frequency column by replacing the values _x, y, z, v, u, w_ in the Markdown table (double click or press enter to edit).\n",
    "\n",
    "Use python to do your calculations. "
   ]
  },
  {
   "cell_type": "code",
   "execution_count": null,
   "metadata": {},
   "outputs": [],
   "source": []
  },
  {
   "cell_type": "markdown",
   "metadata": {},
   "source": [
    "| Pet    | Frequency | Relative Frequency |\n",
    "|--------|-----------|--------------------|\n",
    "| Dog    | x         | v                  |\n",
    "| Cat    | y         | u                  |\n",
    "| No pet | z         | w                  |"
   ]
  },
  {
   "cell_type": "markdown",
   "metadata": {},
   "source": []
  }
 ],
 "metadata": {
  "interpreter": {
   "hash": "630ee6e1a5478bf7ff207c35911c1be3389925fdb51216b03455896ddb623e36"
  },
  "kernelspec": {
   "display_name": "Python 3.9.7 ('ML')",
   "language": "python",
   "name": "python3"
  },
  "language_info": {
   "codemirror_mode": {
    "name": "ipython",
    "version": 3
   },
   "file_extension": ".py",
   "mimetype": "text/x-python",
   "name": "python",
   "nbconvert_exporter": "python",
   "pygments_lexer": "ipython3",
   "version": "3.9.7"
  },
  "orig_nbformat": 4
 },
 "nbformat": 4,
 "nbformat_minor": 2
}
