{
 "cells": [
  {
   "cell_type": "markdown",
   "metadata": {},
   "source": [
    "# Notebook example"
   ]
  },
  {
   "cell_type": "markdown",
   "metadata": {},
   "source": [
    "## Notebooks are great for programming your homework assignments.\n",
    "Not only can we run code, but we can also write _Markdown_ text. Let's see a homework assignment in our python notebook."
   ]
  },
  {
   "cell_type": "markdown",
   "metadata": {},
   "source": [
    "# Exercise 1: calculating squares\n",
    "Calculate the square for these digits: 1, 2, 3, 5, 8, 13"
   ]
  },
  {
   "cell_type": "code",
   "execution_count": 2,
   "metadata": {},
   "outputs": [
    {
     "name": "stdout",
     "output_type": "stream",
     "text": [
      "1\n",
      "4\n",
      "9\n",
      "25 25 25\n"
     ]
    }
   ],
   "source": [
    "# This is a comment. We can use comments to give a small explanation about our code\n",
    "\n",
    "# We can calculate the square of a digit in a few ways.\n",
    "# We use print() to see the result of our calculations \n",
    "print(1*1) # the * operator is for multiplication\n",
    "print(2**2) # the ** operator is 'to the power of'\n",
    "print(3**2) # 3**2 = 3 to the power of 2\n",
    "print(5**2, 5*5, 5+5+5+5+5) "
   ]
  },
  {
   "cell_type": "code",
   "execution_count": null,
   "metadata": {},
   "outputs": [],
   "source": []
  }
 ],
 "metadata": {
  "interpreter": {
   "hash": "630ee6e1a5478bf7ff207c35911c1be3389925fdb51216b03455896ddb623e36"
  },
  "kernelspec": {
   "display_name": "Python 3.9.7 ('ML')",
   "language": "python",
   "name": "python3"
  },
  "language_info": {
   "codemirror_mode": {
    "name": "ipython",
    "version": 3
   },
   "file_extension": ".py",
   "mimetype": "text/x-python",
   "name": "python",
   "nbconvert_exporter": "python",
   "pygments_lexer": "ipython3",
   "version": "3.9.7"
  },
  "orig_nbformat": 4
 },
 "nbformat": 4,
 "nbformat_minor": 2
}
