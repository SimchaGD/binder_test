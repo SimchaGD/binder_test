{
 "cells": [
  {
   "cell_type": "markdown",
   "metadata": {},
   "source": [
    "# Find the 100th Fibonacci number\n",
    "In mathematics, the Fibonacci numbers, form a sequence, the Fibonacci sequence, in which each number is the sum of the two preceding ones. (Wikipedia)\n",
    "\n",
    "We start with the numbers 0 and 1:\n",
    "\n",
    "`0, 1, 0+1, 1+(0+1), (0+1)+(1+(0+1)), ...`\n",
    "\n",
    "`0, 1, 1, 2, 3, 5, 8, 13, ...`"
   ]
  },
  {
   "cell_type": "code",
   "execution_count": 1,
   "metadata": {},
   "outputs": [
    {
     "name": "stdout",
     "output_type": "stream",
     "text": [
      "21\n"
     ]
    }
   ],
   "source": [
    "# Calculating the next Fibonacci number\n",
    "n1 = 8\n",
    "n2 = 13\n",
    "\n",
    "result = n1 + n2\n",
    "print(result)"
   ]
  },
  {
   "cell_type": "code",
   "execution_count": 2,
   "metadata": {},
   "outputs": [
    {
     "name": "stdout",
     "output_type": "stream",
     "text": [
      "The 100th Fibonacci number is 218922995834555169026\n",
      "The 100th Fibonacci number is 2.19e+20\n"
     ]
    }
   ],
   "source": [
    "count = 2\n",
    "n1 = 0\n",
    "n2 = 1\n",
    "\n",
    "for i in range(98):\n",
    "    result = n1+n2\n",
    "    n1 = n2\n",
    "    n2 = result\n",
    "    count += 1\n",
    "\n",
    "print(f'The {count}th Fibonacci number is {result}')\n",
    "print(f'The {count}th Fibonacci number is {result:.2e}')"
   ]
  },
  {
   "cell_type": "markdown",
   "metadata": {},
   "source": [
    "# Throw a dice 100 times\n",
    "Let's say, we want to throw a die 100 times and calculate the mean of the results. How can we do that easily?"
   ]
  },
  {
   "cell_type": "code",
   "execution_count": 1,
   "metadata": {},
   "outputs": [
    {
     "name": "stdout",
     "output_type": "stream",
     "text": [
      "[5, 1, 4, 4, 5, 1, 2, 4, 4, 3, 6, 2, 1, 5, 4, 3, 1, 2, 6, 3, 1, 4, 2, 5, 3, 4, 4, 3, 6, 3, 4, 2, 6, 3, 6, 3, 2, 4, 2, 4, 5, 4, 1, 5, 1, 2, 2, 2, 3, 5, 3, 2, 3, 6, 5, 4, 4, 4, 1, 6, 5, 3, 5, 2, 2, 4, 2, 1, 1, 4, 3, 5, 6, 1, 5, 1, 2, 4, 5, 3, 5, 2, 1, 1, 4, 2, 2, 3, 4, 4, 4, 2, 6, 3, 2, 5, 5, 2, 1, 3]\n",
      "Average die roll:  3.3\n"
     ]
    }
   ],
   "source": [
    "import random\n",
    "random.seed(10)\n",
    "\n",
    "dice_results = []\n",
    "for i in range(100):\n",
    "    die_roll = random.randint(1, 6)\n",
    "    dice_results.append(die_roll)\n",
    "    \n",
    "print(dice_results)\n",
    "print('Average die roll: ', sum(dice_results)/100)"
   ]
  },
  {
   "cell_type": "code",
   "execution_count": null,
   "metadata": {},
   "outputs": [],
   "source": []
  }
 ],
 "metadata": {
  "interpreter": {
   "hash": "630ee6e1a5478bf7ff207c35911c1be3389925fdb51216b03455896ddb623e36"
  },
  "kernelspec": {
   "display_name": "Python 3.9.7 ('ML')",
   "language": "python",
   "name": "python3"
  },
  "language_info": {
   "codemirror_mode": {
    "name": "ipython",
    "version": 3
   },
   "file_extension": ".py",
   "mimetype": "text/x-python",
   "name": "python",
   "nbconvert_exporter": "python",
   "pygments_lexer": "ipython3",
   "version": "3.9.7"
  },
  "orig_nbformat": 4
 },
 "nbformat": 4,
 "nbformat_minor": 2
}
